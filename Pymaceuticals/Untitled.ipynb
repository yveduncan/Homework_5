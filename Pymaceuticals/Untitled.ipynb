{
 "cells": [
  {
   "cell_type": "code",
   "execution_count": 1,
   "id": "a761f75c",
   "metadata": {},
   "outputs": [],
   "source": [
    "# import dep\n",
    "import requests\n",
    "import json"
   ]
  },
  {
   "cell_type": "code",
   "execution_count": 5,
   "id": "df411346",
   "metadata": {},
   "outputs": [],
   "source": [
    "# make a request\n",
    "url = 'https://api.spacexdata.com/v4/launches'\n",
    "\n",
    "resp = requests.get(url)\n",
    "\n",
    "info = resp.json()"
   ]
  },
  {
   "cell_type": "code",
   "execution_count": 12,
   "id": "147dc7f4",
   "metadata": {},
   "outputs": [
    {
     "data": {
      "text/plain": [
       "False"
      ]
     },
     "execution_count": 12,
     "metadata": {},
     "output_type": "execute_result"
    }
   ],
   "source": [
    "info[0]['fairings']['recovered']"
   ]
  },
  {
   "cell_type": "code",
   "execution_count": 16,
   "id": "8ebdaef5",
   "metadata": {},
   "outputs": [
    {
     "ename": "SyntaxError",
     "evalue": "invalid syntax. Maybe you meant '==' or ':=' instead of '='? (2742591520.py, line 1)",
     "output_type": "error",
     "traceback": [
      "\u001b[1;36m  Cell \u001b[1;32mIn[16], line 1\u001b[1;36m\u001b[0m\n\u001b[1;33m    json.dumps[(info, sort_keys=True, indent=4)]\u001b[0m\n\u001b[1;37m                      ^\u001b[0m\n\u001b[1;31mSyntaxError\u001b[0m\u001b[1;31m:\u001b[0m invalid syntax. Maybe you meant '==' or ':=' instead of '='?\n"
     ]
    }
   ],
   "source": [
    "json.dumps[(info, sort_keys=True, indent=4)]"
   ]
  },
  {
   "cell_type": "code",
   "execution_count": null,
   "id": "f78688e1",
   "metadata": {},
   "outputs": [],
   "source": []
  }
 ],
 "metadata": {
  "kernelspec": {
   "display_name": "Python 3 (ipykernel)",
   "language": "python",
   "name": "python3"
  },
  "language_info": {
   "codemirror_mode": {
    "name": "ipython",
    "version": 3
   },
   "file_extension": ".py",
   "mimetype": "text/x-python",
   "name": "python",
   "nbconvert_exporter": "python",
   "pygments_lexer": "ipython3",
   "version": "3.10.11"
  }
 },
 "nbformat": 4,
 "nbformat_minor": 5
}
